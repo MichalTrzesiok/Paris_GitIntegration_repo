{
 "cells": [
  {
   "cell_type": "code",
   "execution_count": null,
   "id": "tamil-affiliate",
   "metadata": {
    "id": "aca57724-d34f-4f15-9ad9-27a6a5d2f7e9",
    "tags": []
   },
   "outputs": [],
   "source": [
    "\"hello world\""
   ]
  }
 ],
 "metadata": {
  "kernelspec": {
   "display_name": "Python 3.9",
   "language": "python",
   "name": "python3"
  },
  "language_info": {
   "codemirror_mode": {
    "name": "ipython",
    "version": 3
   },
   "file_extension": ".py",
   "mimetype": "text/x-python",
   "name": "python",
   "nbconvert_exporter": "python",
   "pygments_lexer": "ipython3",
   "version": "3.9.7"
  }
 },
 "nbformat": 4,
 "nbformat_minor": 5
}
